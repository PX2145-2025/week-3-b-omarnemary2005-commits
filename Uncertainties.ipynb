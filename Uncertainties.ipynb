{
  "cells": [
    {
      "cell_type": "markdown",
      "metadata": {
        "id": "U40XuDu4Rd04"
      },
      "source": [
        "# Feedback from previous weeks and other and hints\n",
        "\n",
        "1. Be careful about your environment remembering variables. Make sure your code works in a new _clean_ environment. In Colab: `Runtime`->`restart Runtime`, in Anaconda's Jupyter: `Kernel`->`Restart`.\n",
        "2. Graphs without labels (or units when appropriate) are not worth any point.\n",
        "3. Do put in sufficient explanatory comments in your code.\n",
        "4. Functions are very important. Do look up the video on the Safari O'Reilly ressource if you are still not clear on them !\n",
        "\n",
        "For this week you can use these imports at the start of your programs:"
      ]
    },
    {
      "cell_type": "code",
      "execution_count": 1,
      "metadata": {
        "id": "Sl-ieZlgRd06"
      },
      "outputs": [],
      "source": [
        "import numpy as np\n",
        "import matplotlib.pyplot as plt"
      ]
    },
    {
      "cell_type": "markdown",
      "metadata": {
        "id": "VsY3hSlxRd07"
      },
      "source": [
        "We will use a new module `uncertainties`, which is **not** standard in the colab environment. You will have to first run:"
      ]
    },
    {
      "cell_type": "code",
      "execution_count": 2,
      "metadata": {
        "colab": {
          "base_uri": "https://localhost:8080/"
        },
        "id": "7JzkxR1DRd08",
        "outputId": "3bd99066-1852-425c-e23d-8533b8a40d13"
      },
      "outputs": [
        {
          "output_type": "stream",
          "name": "stdout",
          "text": [
            "\u001b[?25l   \u001b[90m━━━━━━━━━━━━━━━━━━━━━━━━━━━━━━━━━━━━━━━━\u001b[0m \u001b[32m0.0/60.1 kB\u001b[0m \u001b[31m?\u001b[0m eta \u001b[36m-:--:--\u001b[0m\r\u001b[2K   \u001b[90m━━━━━━━━━━━━━━━━━━━━━━━━━━━━━━━━━━━━━━━━\u001b[0m \u001b[32m60.1/60.1 kB\u001b[0m \u001b[31m2.6 MB/s\u001b[0m eta \u001b[36m0:00:00\u001b[0m\n",
            "\u001b[?25h"
          ]
        }
      ],
      "source": [
        "! pip install -q uncertainties"
      ]
    },
    {
      "cell_type": "markdown",
      "metadata": {
        "id": "wea7jBDSRd08"
      },
      "source": [
        "To install the module before you can import it:"
      ]
    },
    {
      "cell_type": "code",
      "execution_count": 82,
      "metadata": {
        "id": "zgpkUc5HRd08"
      },
      "outputs": [],
      "source": [
        "import uncertainties as uc\n",
        "import uncertainties.umath as um # for maths functions\n",
        "from uncertainties.umath import sqrt\n",
        "from math import pi\n",
        "from uncertainties.umath import tan, radians"
      ]
    },
    {
      "cell_type": "markdown",
      "metadata": {
        "id": "Tjn3-Ug4Rd09"
      },
      "source": [
        "# Introduction\n",
        "In the practical classes PX2133/PX2233 and PX2338 (Obs tech), as well as your year 3/4 project, a lot of emphasis is placed on the determination and mathematical handling of errors.\n",
        "The uncertainties module allows us to deal very easily with [error propagation](https://en.wikipedia.org/wiki/Propagation_of_uncertainty). For this sheet you should remind yourself about error bars in measurements and about propagation of uncertainties. Take an example from your lab handbook:\n",
        "\n",
        "**Example 1**: If the length of a rectangle is $1.24\\pm0.02 m$ and its breadth is $0.61\\pm0.01 m$, what is its area and the error in the area? The following code snippet solves this problem in a few lines."
      ]
    },
    {
      "cell_type": "code",
      "execution_count": null,
      "metadata": {
        "id": "sphfP9myRd09",
        "outputId": "3978929a-a5c4-4ee0-dbea-93392261cb09"
      },
      "outputs": [
        {
          "name": "stdout",
          "output_type": "stream",
          "text": [
            "Area is: 0.756+/-0.017 m^2\n"
          ]
        }
      ],
      "source": [
        "L = uc.ufloat(1.24, 0.02)\n",
        "W = uc.ufloat(0.61, 0.01)\n",
        "print ('Area is:', L*W, 'm^2') # Do remember to add the units when printing!"
      ]
    },
    {
      "cell_type": "markdown",
      "metadata": {
        "id": "EjljFhB_Rd0-"
      },
      "source": [
        "**Note**: For the area itself, it's fairly straightforward:"
      ]
    },
    {
      "cell_type": "code",
      "execution_count": null,
      "metadata": {
        "id": "1iEjeWgMRd0-",
        "outputId": "d88c745a-b48a-4fe3-acc6-7296e0299da3"
      },
      "outputs": [
        {
          "data": {
            "text/plain": [
              "0.7564"
            ]
          },
          "execution_count": 5,
          "metadata": {},
          "output_type": "execute_result"
        }
      ],
      "source": [
        "1.24*0.61"
      ]
    },
    {
      "cell_type": "markdown",
      "metadata": {
        "id": "bd4_GtWgRd0_"
      },
      "source": [
        "However, for the error bar on this number:"
      ]
    },
    {
      "cell_type": "code",
      "execution_count": null,
      "metadata": {
        "id": "BRXKNOIHRd0_",
        "outputId": "00fb1d40-93ec-4eef-9d95-fabb6676b5fa"
      },
      "outputs": [
        {
          "data": {
            "text/plain": [
              "0.0002"
            ]
          },
          "execution_count": 6,
          "metadata": {},
          "output_type": "execute_result"
        }
      ],
      "source": [
        "0.02*0.01"
      ]
    },
    {
      "cell_type": "markdown",
      "metadata": {
        "id": "k36MVwFZRd0_"
      },
      "source": [
        "does not work. Instead, the [error progation formula](https://en.wikipedia.org/wiki/Propagation_of_uncertainty#Example_formulae) gives:"
      ]
    },
    {
      "cell_type": "code",
      "execution_count": null,
      "metadata": {
        "id": "vwn_Vvh8Rd1A",
        "outputId": "8b868791-ce5c-42eb-c03a-c709333c71e5"
      },
      "outputs": [
        {
          "data": {
            "text/plain": [
              "0.01739540169125163"
            ]
          },
          "execution_count": 7,
          "metadata": {},
          "output_type": "execute_result"
        }
      ],
      "source": [
        "np.abs(1.24*0.61)*np.sqrt((0.02/1.24)**2+(0.01/0.61)**2)"
      ]
    },
    {
      "cell_type": "markdown",
      "metadata": {
        "id": "2QjtzmkURd1A"
      },
      "source": [
        "So the area is $0.756\\pm0.017 m^2$. `uncertainties` obviously saves a lot of work, even for such a simple case. You can also take a look at the web site uncertainties hosted at https://pythonhosted.org/uncertainties/user_guide.html. In particular, [this section](https://pythonhosted.org/uncertainties/user_guide.html#access-to-the-uncertainty-and-to-the-nominal-value) shows some of the properties of a `ufloat` you can access directly.\n",
        "\n",
        "**Example 2**: A reference object is $10.0\\pm0.0001 m$ long, and makes a viewing angle of $0.62\\pm0.02 rad$. How far is it?"
      ]
    },
    {
      "cell_type": "code",
      "execution_count": null,
      "metadata": {
        "id": "zjO9QT8hRd1A",
        "outputId": "9e00d19e-5158-479a-8d8b-7aeead0ab1d1"
      },
      "outputs": [
        {
          "name": "stdout",
          "output_type": "stream",
          "text": [
            "Distance is: 15.609024890896208 m, with an error of: 0.537283338762715\n"
          ]
        }
      ],
      "source": [
        "L = uc.ufloat(10.0, 0.0001)\n",
        "theta = uc.ufloat(0.62,0.02)\n",
        "\n",
        "Distance = (L/2)/um.tan(theta/2)\n",
        "\n",
        "print ('Distance is:', Distance.nominal_value, 'm, with an error of:', Distance.std_dev)"
      ]
    },
    {
      "cell_type": "markdown",
      "metadata": {
        "id": "ayet1Nn2Rd1B"
      },
      "source": [
        "Note the need to use \"umath\" functions (like `um.tan()` instead of `np.tan()`), and how to get the nominal value and the standard deviation of the uncertainties objects. To get nicer looking output, such as controlling the number of significant digits printed, you can use the information about formatting at https://docs.python.org/3/tutorial/inputoutput.html. In the exercises below you need to print the values to the screen. (Don’t forget units.)"
      ]
    },
    {
      "cell_type": "markdown",
      "metadata": {
        "id": "O5aZbi5ERd1C"
      },
      "source": [
        "# Exercises\n",
        "This must be marked before you leave the lab. Mark weighting is in brackets.\n",
        "**Save your work to GitHub after having run all cells with `Runtime` -> `Restart and run all`. And do not change the notebook's filename.** Do add comments to your code, you'll lose points if your code is hard to understand. Graphs without labels (or units when appropriate) are not worth any point.\n",
        "\n",
        "## Exercise 0\n",
        "[0] With some approximations, we have measured the mass of the following black-holes:\n",
        "```\n",
        "\"35.6+/-3.9\",\"30.6+/-3.7\",\"63.1+/-3.2\",\"23.2+/-9.8\",\"13.6+/-4.5\",\"35.7+/-6.8\",\"13.7+/-6.0\",\"7.7+/-2.4\",\"20.5+/-4.0\"\n",
        "```\n",
        "Compute for each (with error-bars) their lifetime due to Hawking radiation:\n",
        "$$\n",
        "t = \\left(\\frac{M}{M_{\\odot}}\\right)^3\\,\\times\\,2.097\\,\\times\\,10^{67} yr\n",
        "$$\n",
        "\n",
        "(this exercise is for demonstration purposes and won't be marked)"
      ]
    },
    {
      "cell_type": "code",
      "execution_count": 12,
      "metadata": {
        "id": "1RyJfm-BRd1C"
      },
      "outputs": [],
      "source": [
        "def lifetime(mass):\n",
        "  '''\n",
        "  Return the lifetime in yeras of a black hole of mass m in solar masses\n",
        "  '''\n",
        "  time= (mass**3)*2.097*1e67\n",
        "  return time\n",
        "\n"
      ]
    },
    {
      "cell_type": "code",
      "source": [
        "strings=[\"35.6+/-3.9\",\"30.6+/-3.7\",\"63.1+/-3.2\",\"23.2+/-9.8\",\"13.6+/-4.5\",\"35.7+/-6.8\",\"13.7+/-6.0\",\"7.7+/-2.4\",\"20.5+/-4.0\"]\n",
        "\n",
        "masses=[uc.ufloat_fromstr(s) for s in strings]\n",
        "\n",
        "['{:10.1e}'.format(lifetime(bh_mass)) for bh_mass in masses]\n"
      ],
      "metadata": {
        "colab": {
          "base_uri": "https://localhost:8080/"
        },
        "id": "wvkRSRSCqGvw",
        "outputId": "49972873-2fb5-4ffa-864c-69a1163a6239"
      },
      "execution_count": 33,
      "outputs": [
        {
          "output_type": "execute_result",
          "data": {
            "text/plain": [
              "['   9.5e+71+/-   3.1e+71',\n",
              " '   6.0e+71+/-   2.2e+71',\n",
              " '   5.3e+72+/-   0.8e+72',\n",
              " '   2.6e+71+/-   3.3e+71',\n",
              " '   5.3e+70+/-   5.2e+70',\n",
              " '   9.5e+71+/-   5.5e+71',\n",
              " '   5.4e+70+/-   7.1e+70',\n",
              " '   9.6e+69+/-   9.0e+69',\n",
              " '   1.8e+71+/-   1.1e+71']"
            ]
          },
          "metadata": {},
          "execution_count": 33
        }
      ]
    },
    {
      "cell_type": "markdown",
      "metadata": {
        "id": "-mv6Gi9DRd1C"
      },
      "source": [
        "## Exercise 1\n",
        "[2] An object is measured to travel a distance $x = 5.1 \\pm 0.4 m$ during a time of $t = 0.4 \\pm 0.1 s$. What is the average velocity and the error in the average velocity?"
      ]
    },
    {
      "cell_type": "code",
      "execution_count": 50,
      "metadata": {
        "colab": {
          "base_uri": "https://localhost:8080/"
        },
        "id": "5cVBAy7YRd1C",
        "outputId": "10107778-bd91-47cb-c125-9915bc1bea15"
      },
      "outputs": [
        {
          "output_type": "stream",
          "name": "stdout",
          "text": [
            "average velocity is equal to 12.7+/-3.3 m/s\n"
          ]
        }
      ],
      "source": [
        "x= uc.ufloat(5.1,0.4)\n",
        "t= uc.ufloat(0.4,0.1)\n",
        "'''\n",
        "velocity equals didtance(x) divided by time(t)\n",
        "'''\n",
        "v=x/t\n",
        "\n",
        "# uncertainties in x and t are automatically included in the result\n",
        "print(\"average velocity is equal to\", v ,\"m/s\")"
      ]
    },
    {
      "cell_type": "markdown",
      "metadata": {
        "id": "Xwejo6bxRd1D"
      },
      "source": [
        "## Exercise 2\n",
        "[2] An enterprising cow attempts to jump over the moon by jumping vertically into the air with initial speed $v_0=4.0\\pm0.2 m/s$. After a time $t=0.60\\pm0.06s$, the height of the cow is $h = v_0t-\\frac{1}{2}g t^2 = 0.636 m$. What is the uncertainty in $h$? Take $g$ as exactly $9.81 ms^{-2}$."
      ]
    },
    {
      "cell_type": "code",
      "execution_count": 78,
      "metadata": {
        "colab": {
          "base_uri": "https://localhost:8080/"
        },
        "id": "tF-ifIt8Rd1D",
        "outputId": "b7deb22a-8bf3-4cb6-99a1-e3f84f885b5a"
      },
      "outputs": [
        {
          "output_type": "stream",
          "name": "stdout",
          "text": [
            "hiegt of the cow is equal to 0.63+/-0.16 m\n"
          ]
        }
      ],
      "source": [
        "u = uc.ufloat(4.0, 0.2)     # initial velocity (m/s)\n",
        "t = uc.ufloat(0.60, 0.06)   # time (s)\n",
        "g = 9.81                    # gravity (m/s^2), taken as exact\n",
        "\n",
        "# calculate height using h = ut - 0.5gt^2\n",
        "h = u*t - 0.5*g*t**2\n",
        "\n",
        "# uncertainties in u and t are automatically included in the result\n",
        "print(\"hiegt of the cow is equal to\", h, \"m\")\n"
      ]
    },
    {
      "cell_type": "markdown",
      "metadata": {
        "id": "UXgrVfPARd1D"
      },
      "source": [
        "## Exercise 3\n",
        "[2] In an optics experiment the object distance $u$ is measured to be 20cm and the image distance $v$ is 10cm, both to an accuracy of 0.5cm. Find the focal length $f$ of the lens using the formula:\n",
        "\n",
        "$$ \\frac{1}{u}+\\frac{1}{v}=\\frac{1}{f}$$"
      ]
    },
    {
      "cell_type": "code",
      "execution_count": 80,
      "metadata": {
        "colab": {
          "base_uri": "https://localhost:8080/"
        },
        "id": "1ty8andGRd1D",
        "outputId": "d5634505-80b6-4e20-c95e-01b3495cef1a"
      },
      "outputs": [
        {
          "output_type": "stream",
          "name": "stdout",
          "text": [
            "Focal length is equal to 6.67+/-0.23 cm\n"
          ]
        }
      ],
      "source": [
        "u = uc.ufloat(20, 0.5)   # object distance (cm)\n",
        "v = uc.ufloat(10, 0.5)   # image distance (cm)\n",
        "\n",
        "# use the lens formula 1/f = 1/u + 1/v → f = (u*v) / (u + v)\n",
        "f = (u * v) / (u + v)\n",
        "\n",
        "print(\"Focal length is equal to\", f, \"cm\")\n"
      ]
    },
    {
      "cell_type": "markdown",
      "metadata": {
        "id": "ZhuXqBQNRd1D"
      },
      "source": [
        "## Exercise 4\n",
        "[2] Two students each measure the refractive index of water. Jack measures a value of $1.33 \\pm 0.03$ while Jill measures $1.28 \\pm 0.02$. Are these values in agreement? *You do have to think a bit about this one...*"
      ]
    },
    {
      "cell_type": "code",
      "execution_count": 64,
      "metadata": {
        "colab": {
          "base_uri": "https://localhost:8080/"
        },
        "id": "fMIYyme7Rd1D",
        "outputId": "2accf6f1-bae6-4731-bc66-34f85fc54b75"
      },
      "outputs": [
        {
          "output_type": "stream",
          "name": "stdout",
          "text": [
            "Difference = 0.050000000000000044\n",
            "Combined uncertainty = 0.03605551275463989\n",
            "The two measurements differ by 1.39 standard deviations.\n"
          ]
        }
      ],
      "source": [
        "\n",
        "jack = 1.33\n",
        "jack_unc = 0.03\n",
        "jill = 1.28\n",
        "jill_unc = 0.02\n",
        "\n",
        "\"\"\"\n",
        "calculate the difference between the two values and the combined uncertainty and divide them to calculate the standard deviation between the two measurments\n",
        "\"\"\"\n",
        "\n",
        "difference = (jack - jill)\n",
        "combined_unc = sqrt(jack_unc**2 + jill_unc**2)\n",
        "\n",
        "print(\"Difference =\", difference)\n",
        "print(\"Combined uncertainty =\", combined_unc)\n",
        "print(f\"The two measurements differ by {difference/combined_unc:.2f} standard deviations.\")\n",
        "\n"
      ]
    },
    {
      "cell_type": "markdown",
      "source": [
        "Jack measured\n",
        "1.33\n",
        "±\n",
        "0.03\n",
        ", and Jill measured\n",
        "1.28\n",
        "±\n",
        "0.02.\n",
        "Their uncertainty ranges just overlap (around 1.30).\n",
        "The difference between their means is\n",
        "0.05, which is about\n",
        "1.4 times the combined uncertainty (\n",
        "0.036).\n",
        "Therefore, the two results are in marginal agreement — they are not perfectly the same, but they are consistent within about 1.4 σ.\n",
        "\n",
        "\n",
        "\n"
      ],
      "metadata": {
        "id": "qOekfefnOOh1"
      }
    },
    {
      "cell_type": "markdown",
      "metadata": {
        "id": "iWTK7qF8Rd1E"
      },
      "source": [
        "## Exercise 5\n",
        "[2] The damped resonance frequency $\\omega_{res}$ of an oscillating system is related to the (un-damped) natural angular frequency $\\omega_0$ and the damping coefficient $\\alpha$ by:\n",
        "\n",
        "$$\\omega_{res} = \\sqrt{ \\omega_0^2 - 2\\alpha^2}$$\n",
        "\n",
        "Find $f_0$ if the measured resonance frequency $f_{res}$ is $23.2\\pm0.1 Hz$ and the measured damping coefficient is $19.5\\pm0.5s^{-1}$.\n"
      ]
    },
    {
      "cell_type": "code",
      "execution_count": 76,
      "metadata": {
        "colab": {
          "base_uri": "https://localhost:8080/"
        },
        "id": "d1jk0H4HRd1E",
        "outputId": "2d58521b-0a48-448f-d7b9-b298d31d5af3"
      },
      "outputs": [
        {
          "output_type": "stream",
          "name": "stdout",
          "text": [
            "the regular undamped frequency f0 is equal to 23.61+/-0.10 HZ\n"
          ]
        }
      ],
      "source": [
        "f_res = uc.ufloat(23.2, 0.1)       # Measured resonance frequency (Hz) with uncertainty\n",
        "alpha = uc.ufloat(19.5, 0.5)       # Damping coefficient with uncertainty\n",
        "\n",
        "# Step 1: Convert the measured resonance frequency f_res to angular frequency ω_res\n",
        "# ω_res = 2πf_res\n",
        "angular_res_freq = (f_res * 2 * pi)\n",
        "\n",
        "# Step 2: Use the relation ω_res = √(ω₀² - 2α²) to find the undamped angular frequency ω₀\n",
        "# Rearranging gives ω₀ = √(ω_res² + 2α²)\n",
        "undamped_angular_freq = sqrt((angular_res_freq**2) + (2 * alpha**2))\n",
        "\n",
        "# Step 3: Convert the undamped angular frequency ω₀ back to regular frequency (Hz)\n",
        "# f₀ = ω₀ / (2π)\n",
        "undamped_regular_freq = (undamped_angular_freq) / (2 * pi)\n",
        "\n",
        "# Step 4: Print the final undamped frequency with uncertainty in HZ\n",
        "print(\"the regular undamped frequency f0 is equal to\", undamped_regular_freq, \"HZ\")"
      ]
    },
    {
      "cell_type": "markdown",
      "metadata": {
        "id": "V2CUrnWdRd1E"
      },
      "source": [
        "## Exercise 6\n",
        "[2] Suppose you have the following equation from one of your lab experiments:\n",
        "\n",
        "$$f=\\frac{c}{2}\\sqrt{\\frac{n_x^2}{L_x^2}+\\frac{n_y^2}{L_y^2}+\\frac{n_z^2}{L_z^2}}$$\n",
        "\n",
        "where $f$ is the resonant frequency of sound waves in a box of sides $L_x$, $L_y$ and $L_z$ in length and the $n_x$ etc. are integers. $L_x = 10.2\\pm0.2m$, $L_y = 5.2\\pm0.3m$ and $L_z = 20.0\\pm0.1 m$, while $c = 331.3 + T * 0.606 \\,m\\,s^{-1}$ is the temperature-dependent speed of sound, and the temperature $T$ is $23 \\pm 1^\\circ C$.\n",
        "Calculate $f$ and the error in $f$ for the following values of $(nx,ny,nz)= (1,1,1), (1,1,2)$ and $(2,1,1)$.\n"
      ]
    },
    {
      "cell_type": "code",
      "execution_count": 81,
      "metadata": {
        "colab": {
          "base_uri": "https://localhost:8080/"
        },
        "id": "jTNLw9eJRd1E",
        "outputId": "993bb589-3208-43b1-b352-d23f43729238"
      },
      "outputs": [
        {
          "output_type": "stream",
          "name": "stdout",
          "text": [
            "f(1,1,1) = 38.2+/-1.7 Hz\n",
            "f(1,1,2) = 41.1+/-1.6 Hz\n",
            "f(2,1,1) = 48.2+/-1.4 Hz\n"
          ]
        }
      ],
      "source": [
        "\n",
        "# box dimensions in meters (with uncertainties)\n",
        "Lx = uc.ufloat(10.2, 0.2)\n",
        "Ly = uc.ufloat(5.2, 0.3)\n",
        "Lz = uc.ufloat(20.0, 0.1)\n",
        "\n",
        "# temperature in °C (with uncertainty)\n",
        "T = uc.ufloat(23.0, 1.0)\n",
        "\n",
        "# temperature-dependent speed of sound\n",
        "# c = 331.3 + 0.606 * T\n",
        "c = 331.3 + 0.606 * T\n",
        "\n",
        "# equation for the resonant frequency\n",
        "# f = (c / 2) * sqrt((nx/Lx)^2 + (ny/Ly)^2 + (nz/Lz)^2)\n",
        "def mode_freq(nx, ny, nz):\n",
        "    term = (nx/Lx)**2 + (ny/Ly)**2 + (nz/Lz)**2\n",
        "    f = (c / 2) * sqrt(term)\n",
        "    return f\n",
        "\n",
        "# --- different mode combinations (nx, ny, nz) ---\n",
        "nx, ny, nz = 1, 1, 1\n",
        "f_111 = mode_freq(nx, ny, nz)\n",
        "\n",
        "nx, ny, nz = 1, 1, 2\n",
        "f_112 = mode_freq(nx, ny, nz)\n",
        "\n",
        "nx, ny, nz = 2, 1, 1\n",
        "f_211 = mode_freq(nx, ny, nz)\n",
        "\n",
        "# --- print results with uncertainties ---\n",
        "print(\"f(1,1,1) =\", f_111, \"Hz\")\n",
        "print(\"f(1,1,2) =\", f_112, \"Hz\")\n",
        "print(\"f(2,1,1) =\", f_211, \"Hz\")\n",
        "\n"
      ]
    },
    {
      "cell_type": "markdown",
      "metadata": {
        "id": "jpHNulVVRd1E"
      },
      "source": [
        "## Exercise 7\n",
        "[4] The reflection coefficient $R_\\parallel$ for parallel plane-polarised light reflected from a surface is given by the equation:\n",
        "\n",
        "$$ R_\\parallel = \\frac{\\tan^2(\\theta_i - \\theta_t)}{\\tan^2(\\theta_i + \\theta_t)} $$\n",
        "\n",
        "Calculate the error in $R_\\parallel$ given measurements $\\theta_i = (78 \\pm 1)^\\circ$ and $\\theta_t = (40 \\pm 1)^\\circ$."
      ]
    },
    {
      "cell_type": "code",
      "execution_count": 83,
      "metadata": {
        "colab": {
          "base_uri": "https://localhost:8080/"
        },
        "id": "60EUO-a0Rd1F",
        "outputId": "d8e657c2-8a21-45e9-c181-54463eeb2255"
      },
      "outputs": [
        {
          "output_type": "stream",
          "name": "stdout",
          "text": [
            "Reflection coefficient R_parallel is 0.173+/-0.027\n"
          ]
        }
      ],
      "source": [
        "# given angles in degrees with uncertainties\n",
        "theta_i_deg = uc.ufloat(78, 1)  # angle of incidence\n",
        "theta_t_deg = uc.ufloat(40, 1)  # angle of transmission\n",
        "\n",
        "# convert to radians\n",
        "theta_i_rad = theta_i_deg * (pi / 180)\n",
        "theta_t_rad = theta_t_deg * (pi / 180)\n",
        "\n",
        "# formula: R_parallel = (tan(θ_i − θ_t)²) / (tan(θ_i + θ_t)²)\n",
        "R_parallel = (tan(theta_i_rad - theta_t_rad)**2) / (tan(theta_i_rad + theta_t_rad)**2)\n",
        "\n",
        "print(\"Reflection coefficient R_parallel is\", R_parallel)"
      ]
    },
    {
      "cell_type": "markdown",
      "metadata": {
        "id": "AXn8ZUCfRd1F"
      },
      "source": [
        "## Exercise 8\n",
        "[4] Calculate and print to the screen the fractional uncertainty, as a percentage to one\n",
        "significant figure, of the fluid flow discharge coefficient $C_d$ from the equation\n",
        "\n",
        "$$\n",
        "C_d = \\frac{\\dot{m}\\sqrt{1-\\left(\\frac{d}{D}\\right)^4}}{Kd^2F\\sqrt{\\rho\\Delta P}}\n",
        "$$\n",
        "\n",
        "where\n",
        "\n",
        "\\begin{align*}\n",
        "    C_d &= \\text{discharge coefficient}&& \\text{(no units)} \\\\\n",
        "    \\dot{m} &= \\text{mass flow rate}&& = 0.13 \\pm 0.01kg\\,s^{-1} \\\\\n",
        "    d &= \\text{orifice diameter}&& = 11\\pm 1 mm \\\\\n",
        "    D &= \\text{pipe diameter}&& = 71 \\pm 1 mm \\\\\n",
        "    \\rho &= \\text{fluid density}&& =1.01\\pm0.01g\\,cm^{-3} \\\\\n",
        "    \\Delta P &= \\text{differential pressure}&& =156 \\pm 7 Pa \\\\\n",
        "    K &= \\text{a constant parameter}&& =\\text{constant (no units)} \\\\\n",
        "    F &= \\text{thermal expansion factor}&& =\\text{constant (no units)}\n",
        "\\end{align*}\n"
      ]
    },
    {
      "cell_type": "code",
      "execution_count": 84,
      "metadata": {
        "colab": {
          "base_uri": "https://localhost:8080/"
        },
        "id": "jORoXkL4Rd1F",
        "outputId": "54566da2-64f7-40ca-ef06-7b49f64fc9df"
      },
      "outputs": [
        {
          "output_type": "stream",
          "name": "stdout",
          "text": [
            "Discharge coefficient C_d = (8.6+/-1.7)e-05\n",
            "Fractional uncertainty = 19.9%\n"
          ]
        }
      ],
      "source": [
        "'''\n",
        "Given data with uncertainties:\n",
        "m_dot = 0.13 ± 0.01 kg/s\n",
        "d = 11 ± 1 mm\n",
        "D = 71 ± 1 mm\n",
        "rho = 1.01 ± 0.01 g/cm^3\n",
        "ΔP = 156 ± 7 Pa\n",
        "K and F are constants, so they cancel out when considering uncertainty.\n",
        "'''\n",
        "\n",
        "# define variables with their uncertainties\n",
        "m_dot = uc.ufloat(0.13, 0.01)\n",
        "d = uc.ufloat(11, 1)\n",
        "D = uc.ufloat(71, 1)\n",
        "rho = uc.ufloat(1.01, 0.01)\n",
        "delta_P = uc.ufloat(156, 7)\n",
        "\n",
        "# discharge coefficient formula (ignoring constants K and F since they have no uncertainty)\n",
        "C_d = (m_dot * sqrt(1 - (d/D)**4)) / (d**2 * sqrt(rho * delta_P))\n",
        "\n",
        "# calculate fractional uncertainty as a percentage\n",
        "frac_uncertainty = (C_d.s / C_d.n) * 100  # s = std dev, n = nominal value\n",
        "\n",
        "# print the results\n",
        "print(\"Discharge coefficient C_d =\", C_d)\n",
        "print(f\"Fractional uncertainty = {frac_uncertainty:.1f}%\")"
      ]
    },
    {
      "cell_type": "markdown",
      "metadata": {
        "id": "3Ane0dd0Rd1F"
      },
      "source": [
        "## Exercise 9: Optional problem (not marked)\n",
        "If you have time and want to try something interesting, do the following problem by plotting in 2D:\n",
        " - Draw an equilateral triangle with vertices and coordinates: vertex 1: $(p_1,q_1)$; vertex 2: $(p_2, q_2)$; vertex 3: $(p_3, q_3)$.\n",
        " - Place a dot at an arbitrary point $P = (x_0, y_0)$ within this triangle.\n",
        " - Find the next point by selecting randomly an integer $n = 1 , 2, $  or $3$ :\n",
        "    1. If 1 , place a dot halfway between P and vertex 1.\n",
        "    2. If 2 , place a dot halfway between P and vertex 2.\n",
        "    3. If 3 , place a dot halfway between P and vertex 3.\n",
        " - Repeat the last two steps using the last dot as the new P.\n",
        "\n",
        "Mathematically, the coordinates of successive points are given by the formulae\n",
        "\n",
        "$$(x_{i+1},y_{i+1})=0.5[(x_i,y_i)+(p_n,q_n)]$$\n",
        "\n",
        "and\n",
        "\n",
        "$$n=int(1+3r_i),$$\n",
        "\n",
        "where $r_i$ is a random number between 0 and 1 and where the $int()$ function outputs the closest integer smaller than or equal to the argument.\n",
        "\n",
        "Try extending this to four vertices."
      ]
    },
    {
      "cell_type": "code",
      "execution_count": null,
      "metadata": {
        "id": "lLFtQAScRd1G"
      },
      "outputs": [],
      "source": []
    }
  ],
  "metadata": {
    "kernelspec": {
      "display_name": "Python 3",
      "language": "python",
      "name": "python3"
    },
    "language_info": {
      "codemirror_mode": {
        "name": "ipython",
        "version": 3
      },
      "file_extension": ".py",
      "mimetype": "text/x-python",
      "name": "python",
      "nbconvert_exporter": "python",
      "pygments_lexer": "ipython3",
      "version": "3.7.10"
    },
    "colab": {
      "provenance": []
    }
  },
  "nbformat": 4,
  "nbformat_minor": 0
}